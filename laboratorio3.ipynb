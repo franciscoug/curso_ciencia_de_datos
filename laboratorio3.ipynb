#Agregar Navarra
# 3) ¿Cuántos municipios de Navarra tienen más de 5000 habitantes?.

# Filtrar los municipios de Navarra

municipios_navarra_mas_5000 = df[(df['Provincia'] == 'Navarra') & (df['Poblacion'] > 5000)]['Municipio']
cantidad_municipios_navarra_mas_5000 = len(municipios_navarra_mas_5000)
print("Cantidad de municipios en Navarra con más de 5000 habitantes:", cantidad_municipios_navarra_mas_5000)

print(municipios_navarra_mas_5000)
