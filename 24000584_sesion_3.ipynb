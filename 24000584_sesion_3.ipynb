{
 "cells": [
  {
   "cell_type": "markdown",
   "id": "9694ad59-c95c-430e-aeb4-41b06a34d1d2",
   "metadata": {},
   "source": [
    "# 1. Sets"
   ]
  },
  {
   "cell_type": "code",
   "execution_count": 1,
   "id": "fa613106-4ede-49b0-8dbe-f781c54b2aa5",
   "metadata": {
    "tags": []
   },
   "outputs": [],
   "source": [
    "set_1 = {1,2,3,4,\"Hola\"}\n"
   ]
  },
  {
   "cell_type": "code",
   "execution_count": 3,
   "id": "0aa2c90b-01df-4f27-aebf-130803c585bf",
   "metadata": {
    "tags": []
   },
   "outputs": [
    {
     "data": {
      "text/plain": [
       "{1, 2, 3, 4, 'Hola'}"
      ]
     },
     "execution_count": 3,
     "metadata": {},
     "output_type": "execute_result"
    }
   ],
   "source": [
    "set_1"
   ]
  },
  {
   "cell_type": "code",
   "execution_count": 5,
   "id": "e4dad139-285a-43c4-8647-6d983a4c5d2c",
   "metadata": {
    "tags": []
   },
   "outputs": [
    {
     "data": {
      "text/plain": [
       "{1, 10, 2, 3, 4, 'Hola'}"
      ]
     },
     "execution_count": 5,
     "metadata": {},
     "output_type": "execute_result"
    }
   ],
   "source": [
    "set_1.add(10)\n",
    "set_1"
   ]
  },
  {
   "cell_type": "code",
   "execution_count": 6,
   "id": "53429850-8ba5-47c9-a91e-537b9a8884bb",
   "metadata": {
    "tags": []
   },
   "outputs": [
    {
     "data": {
      "text/plain": [
       "{1, 10, 2, 3, 4, 'Hola'}"
      ]
     },
     "execution_count": 6,
     "metadata": {},
     "output_type": "execute_result"
    }
   ],
   "source": [
    "set_1.add(10)\n",
    "set_1"
   ]
  },
  {
   "cell_type": "markdown",
   "id": "6182f70d-df06-4195-9473-10779dd1bc3c",
   "metadata": {
    "tags": []
   },
   "source": [
    "### es el comportaiento de la union"
   ]
  },
  {
   "cell_type": "code",
   "execution_count": 8,
   "id": "1133e79b-151c-45fd-9d60-01ab34330eec",
   "metadata": {
    "tags": []
   },
   "outputs": [],
   "source": [
    "set1 = {1,2,3,4,5}\n",
    "set2 = {5,6,7,8,9,4}"
   ]
  },
  {
   "cell_type": "code",
   "execution_count": 9,
   "id": "9dcff0e8-785f-435d-94be-c40ba33db834",
   "metadata": {
    "tags": []
   },
   "outputs": [
    {
     "data": {
      "text/plain": [
       "{1, 2, 3, 4, 5, 6, 7, 8, 9}"
      ]
     },
     "execution_count": 9,
     "metadata": {},
     "output_type": "execute_result"
    }
   ],
   "source": [
    "set1.union(set2) # set2.union(set2)"
   ]
  },
  {
   "cell_type": "code",
   "execution_count": 10,
   "id": "d497a431-ea38-4a55-b7ff-be985714b555",
   "metadata": {
    "tags": []
   },
   "outputs": [
    {
     "data": {
      "text/plain": [
       "{4, 5}"
      ]
     },
     "execution_count": 10,
     "metadata": {},
     "output_type": "execute_result"
    }
   ],
   "source": [
    "set1.intersection(set2)"
   ]
  },
  {
   "cell_type": "code",
   "execution_count": 11,
   "id": "0a389bf2-4eae-4535-903f-20300d27e960",
   "metadata": {
    "tags": []
   },
   "outputs": [
    {
     "data": {
      "text/plain": [
       "{1, 2, 3}"
      ]
     },
     "execution_count": 11,
     "metadata": {},
     "output_type": "execute_result"
    }
   ],
   "source": [
    "set1.difference(set2)"
   ]
  },
  {
   "cell_type": "code",
   "execution_count": 13,
   "id": "68ae69d1-dfa6-4d44-888e-cda5683ec921",
   "metadata": {
    "tags": []
   },
   "outputs": [
    {
     "data": {
      "text/plain": [
       "{6, 7, 8, 9}"
      ]
     },
     "execution_count": 13,
     "metadata": {},
     "output_type": "execute_result"
    }
   ],
   "source": [
    "set2.difference(set1)"
   ]
  },
  {
   "cell_type": "code",
   "execution_count": 14,
   "id": "e6462aaa-4c5e-43b0-bc95-1a0e805cb4a5",
   "metadata": {
    "tags": []
   },
   "outputs": [
    {
     "data": {
      "text/plain": [
       "{1, 2, 3, 6, 7, 8, 9}"
      ]
     },
     "execution_count": 14,
     "metadata": {},
     "output_type": "execute_result"
    }
   ],
   "source": [
    "set1.symmetric_difference(set2)# comparar dos conjuntos de datos en función del tiempo"
   ]
  },
  {
   "cell_type": "code",
   "execution_count": 15,
   "id": "85665a13-3abc-4f00-af82-6b60dee9aacb",
   "metadata": {
    "tags": []
   },
   "outputs": [
    {
     "data": {
      "text/plain": [
       "{'abc', 'dfg', 'hij'}"
      ]
     },
     "execution_count": 15,
     "metadata": {},
     "output_type": "execute_result"
    }
   ],
   "source": [
    "letras = {\"abc\", \"dfg\", \"hij\"}\n",
    "letras"
   ]
  },
  {
   "cell_type": "code",
   "execution_count": 16,
   "id": "45680d92-7e6c-44f5-bc0a-ceb06a8eacfb",
   "metadata": {
    "tags": []
   },
   "outputs": [
    {
     "data": {
      "text/plain": [
       "{'ABC', 'DFG', 'HIJ'}"
      ]
     },
     "execution_count": 16,
     "metadata": {},
     "output_type": "execute_result"
    }
   ],
   "source": [
    "mayusculas = {l.upper() for l in letras}\n",
    "mayusculas"
   ]
  },
  {
   "cell_type": "markdown",
   "id": "894f27e1-25fa-419e-b7ea-b876b9e4c02e",
   "metadata": {},
   "source": [
    "# 2. Numpy"
   ]
  },
  {
   "cell_type": "code",
   "execution_count": 17,
   "id": "db1d4189-79f9-4bd7-8964-6ae2ec730dc1",
   "metadata": {
    "tags": []
   },
   "outputs": [],
   "source": [
    "import numpy as np # los datos se guardan de forma secuencial en la memoria"
   ]
  },
  {
   "cell_type": "code",
   "execution_count": 18,
   "id": "418f231a-b5bf-41b1-b5b7-0651d125cc1a",
   "metadata": {
    "tags": []
   },
   "outputs": [
    {
     "data": {
      "text/plain": [
       "[1, 2, 3, 4, 5]"
      ]
     },
     "execution_count": 18,
     "metadata": {},
     "output_type": "execute_result"
    }
   ],
   "source": [
    "x = [1,2,3,4,5]\n",
    "x"
   ]
  },
  {
   "cell_type": "code",
   "execution_count": 19,
   "id": "35e17849-a35c-418f-8ed0-badf7e0e19b2",
   "metadata": {
    "tags": []
   },
   "outputs": [
    {
     "data": {
      "text/plain": [
       "array([1., 2., 3., 4., 5.])"
      ]
     },
     "execution_count": 19,
     "metadata": {},
     "output_type": "execute_result"
    }
   ],
   "source": [
    "x1 = np.array(x,dtype = 'float')\n",
    "x1"
   ]
  },
  {
   "cell_type": "code",
   "execution_count": 20,
   "id": "e9d71ec4-366c-4438-bec4-e279757c3904",
   "metadata": {
    "tags": []
   },
   "outputs": [
    {
     "data": {
      "text/plain": [
       "array([ 1,  2,  3,  4,  5,  6,  7,  8,  9, 10])"
      ]
     },
     "execution_count": 20,
     "metadata": {},
     "output_type": "execute_result"
    }
   ],
   "source": [
    "np.arange(1,11,1)"
   ]
  },
  {
   "cell_type": "code",
   "execution_count": 21,
   "id": "12d16d3b-9c07-43ea-abba-7db465e9b4ad",
   "metadata": {
    "tags": []
   },
   "outputs": [
    {
     "data": {
      "text/plain": [
       "array([1.        , 1.44444444, 1.88888889, 2.33333333, 2.77777778,\n",
       "       3.22222222, 3.66666667, 4.11111111, 4.55555556, 5.        ])"
      ]
     },
     "execution_count": 21,
     "metadata": {},
     "output_type": "execute_result"
    }
   ],
   "source": [
    "np.linspace(1,5,10) # retorna un arreglo con un paso constante, el necesario para crear 10 numeros"
   ]
  },
  {
   "cell_type": "code",
   "execution_count": 22,
   "id": "25946635-d8fd-470a-b0ce-c9c2a67352a6",
   "metadata": {
    "tags": []
   },
   "outputs": [
    {
     "data": {
      "text/plain": [
       "array([0., 0., 0., 0., 0., 0., 0., 0., 0., 0.])"
      ]
     },
     "execution_count": 22,
     "metadata": {},
     "output_type": "execute_result"
    }
   ],
   "source": [
    "np.zeros(10)"
   ]
  },
  {
   "cell_type": "code",
   "execution_count": 23,
   "id": "978a2404-9ec7-4fd7-b393-88fdb45be300",
   "metadata": {
    "tags": []
   },
   "outputs": [
    {
     "data": {
      "text/plain": [
       "array([1., 1., 1., 1., 1., 1., 1., 1., 1., 1.])"
      ]
     },
     "execution_count": 23,
     "metadata": {},
     "output_type": "execute_result"
    }
   ],
   "source": [
    "np.ones(10)"
   ]
  },
  {
   "cell_type": "code",
   "execution_count": 26,
   "id": "dfc0ca04-0994-4a60-b654-93cea284509f",
   "metadata": {
    "tags": []
   },
   "outputs": [
    {
     "data": {
      "text/plain": [
       "array([0, 0, 0, 0, 0])"
      ]
     },
     "execution_count": 26,
     "metadata": {},
     "output_type": "execute_result"
    }
   ],
   "source": [
    "np.zeros_like(x)"
   ]
  },
  {
   "cell_type": "markdown",
   "id": "4dc37ecb-e975-42bf-bcd8-20e1294d973f",
   "metadata": {},
   "source": [
    "# 2.1 Rangos y Dimensiones"
   ]
  },
  {
   "cell_type": "code",
   "execution_count": 31,
   "id": "eb04de81-c7a6-4879-9070-fa3bf9c7ec49",
   "metadata": {
    "tags": []
   },
   "outputs": [],
   "source": [
    "x = np.zeros([10,10])"
   ]
  },
  {
   "cell_type": "code",
   "execution_count": 32,
   "id": "99b77b5c-c215-446a-a601-6850c8e6e4f6",
   "metadata": {
    "tags": []
   },
   "outputs": [
    {
     "data": {
      "text/plain": [
       "(10, 10)"
      ]
     },
     "execution_count": 32,
     "metadata": {},
     "output_type": "execute_result"
    }
   ],
   "source": [
    "#dimensiones del tensor.\n",
    "x.shape # cantidad de elementos que tiene cada dimensión"
   ]
  },
  {
   "cell_type": "code",
   "execution_count": 34,
   "id": "fc57c083-8362-4af9-83b3-fde9173bd887",
   "metadata": {
    "tags": []
   },
   "outputs": [
    {
     "data": {
      "text/plain": [
       "2"
      ]
     },
     "execution_count": 34,
     "metadata": {},
     "output_type": "execute_result"
    }
   ],
   "source": [
    "#rango del tensor\n",
    "x.ndim"
   ]
  },
  {
   "cell_type": "code",
   "execution_count": 33,
   "id": "60ed260f-c738-4841-ab9c-dd221682df96",
   "metadata": {
    "tags": []
   },
   "outputs": [
    {
     "data": {
      "text/plain": [
       "0.0"
      ]
     },
     "execution_count": 33,
     "metadata": {},
     "output_type": "execute_result"
    }
   ],
   "source": [
    "x[2,1]"
   ]
  },
  {
   "cell_type": "code",
   "execution_count": 36,
   "id": "11249a9b-b9f3-4dd8-9d6c-7bb31a030e5c",
   "metadata": {
    "tags": []
   },
   "outputs": [],
   "source": [
    "x = np.array([[[10, 20, 30, 40, 50], \n",
    "               [60, 70, 80, 90, 100]], \n",
    "               [[100, 200, 300, 400, 500], \n",
    "                [600, 700, 800, 900, 1000]]\n",
    "            ])"
   ]
  },
  {
   "cell_type": "code",
   "execution_count": 37,
   "id": "ae9a78e7-609e-421f-8ac4-ac8b1e84437b",
   "metadata": {
    "tags": []
   },
   "outputs": [
    {
     "data": {
      "text/plain": [
       "(2, 2, 5)"
      ]
     },
     "execution_count": 37,
     "metadata": {},
     "output_type": "execute_result"
    }
   ],
   "source": [
    "x.shape"
   ]
  },
  {
   "cell_type": "code",
   "execution_count": 38,
   "id": "2c3bc670-9cb4-4c38-9921-ff8c7e4ebd7a",
   "metadata": {
    "tags": []
   },
   "outputs": [
    {
     "data": {
      "text/plain": [
       "3"
      ]
     },
     "execution_count": 38,
     "metadata": {},
     "output_type": "execute_result"
    }
   ],
   "source": [
    "x.ndim"
   ]
  },
  {
   "cell_type": "code",
   "execution_count": 39,
   "id": "40796676-3779-4118-82a3-c051458a4459",
   "metadata": {
    "tags": []
   },
   "outputs": [
    {
     "data": {
      "text/plain": [
       "90"
      ]
     },
     "execution_count": 39,
     "metadata": {},
     "output_type": "execute_result"
    }
   ],
   "source": [
    "x[0][1][3]"
   ]
  },
  {
   "cell_type": "code",
   "execution_count": 40,
   "id": "e25d467e-0fd9-4662-8eec-7af621621c54",
   "metadata": {
    "tags": []
   },
   "outputs": [
    {
     "data": {
      "text/plain": [
       "1000"
      ]
     },
     "execution_count": 40,
     "metadata": {},
     "output_type": "execute_result"
    }
   ],
   "source": [
    "x[1,1,4]"
   ]
  },
  {
   "cell_type": "markdown",
   "id": "aad13ebf-c137-41b9-ba9f-e37e92828a87",
   "metadata": {},
   "source": [
    "# 2.2 - Operaciones con Vectores"
   ]
  },
  {
   "cell_type": "code",
   "execution_count": 43,
   "id": "027c75fe-5798-4853-b3c5-c3ab9ba90633",
   "metadata": {
    "tags": []
   },
   "outputs": [],
   "source": [
    "v = np.arange(1,6,1)\n",
    "w = np.arange(6,11,1)"
   ]
  },
  {
   "cell_type": "code",
   "execution_count": 48,
   "id": "6313fdfd-5846-4d1d-ba24-e365765f301b",
   "metadata": {
    "tags": []
   },
   "outputs": [
    {
     "name": "stdout",
     "output_type": "stream",
     "text": [
      "[1 2 3 4 5]\n"
     ]
    }
   ],
   "source": [
    "print(v)"
   ]
  },
  {
   "cell_type": "code",
   "execution_count": 44,
   "id": "9afbdd29-c2d5-4f48-b009-2e2b399dd89e",
   "metadata": {
    "tags": []
   },
   "outputs": [
    {
     "name": "stdout",
     "output_type": "stream",
     "text": [
      "[ 7  9 11 13 15]\n",
      "[-5 -5 -5 -5 -5]\n",
      "[ 6 14 24 36 50]\n",
      "[0.16666667 0.28571429 0.375      0.44444444 0.5       ]\n"
     ]
    }
   ],
   "source": [
    "print(v + w)\n",
    "print(v - w)\n",
    "print(v * w)\n",
    "print(v / w)"
   ]
  },
  {
   "cell_type": "code",
   "execution_count": 45,
   "id": "a08d88a4-049a-4a6a-a5ff-d169b33a9fdd",
   "metadata": {
    "tags": []
   },
   "outputs": [
    {
     "data": {
      "text/plain": [
       "array([ 2,  4,  6,  8, 10])"
      ]
     },
     "execution_count": 45,
     "metadata": {},
     "output_type": "execute_result"
    }
   ],
   "source": [
    "#Broadcasting\n",
    "v*2"
   ]
  },
  {
   "cell_type": "code",
   "execution_count": 46,
   "id": "54e9a905-d6b2-41ae-937e-8c7c50444478",
   "metadata": {
    "tags": []
   },
   "outputs": [
    {
     "name": "stdout",
     "output_type": "stream",
     "text": [
      "[0.5 1.  1.5 2.  2.5]\n",
      "[ 6  7  8  9 10]\n",
      "[-9 -8 -7 -6 -5]\n",
      "[1 0 1 0 1]\n"
     ]
    }
   ],
   "source": [
    "print(v/2)\n",
    "print(v + 5)\n",
    "print( v - 10)\n",
    "print(v % 2)"
   ]
  },
  {
   "cell_type": "code",
   "execution_count": null,
   "id": "4f932892-fcc2-48e9-9781-e43b38a7f691",
   "metadata": {
    "tags": []
   },
   "outputs": [],
   "source": [
    "#en listas normales en Python, so se puede hacer broadcasting\n",
    "x = [1,2,3]\n",
    "x + 2"
   ]
  },
  {
   "cell_type": "markdown",
   "id": "3caf1734-496e-4441-8528-d90eed573f44",
   "metadata": {},
   "source": [
    "# 2.4 -Funciones Universales"
   ]
  },
  {
   "cell_type": "code",
   "execution_count": 49,
   "id": "4853f988-e051-4741-a2d1-c0ca9dcc9a66",
   "metadata": {
    "tags": []
   },
   "outputs": [
    {
     "data": {
      "text/plain": [
       "array([-2, -1,  0,  1,  1,  3,  6])"
      ]
     },
     "execution_count": 49,
     "metadata": {},
     "output_type": "execute_result"
    }
   ],
   "source": [
    "x= np.array([-2,-1,0,1,1,3,6])\n",
    "x"
   ]
  },
  {
   "cell_type": "code",
   "execution_count": 51,
   "id": "5422edbf-5a18-41b5-aeb0-dea4b715d1e4",
   "metadata": {
    "collapsed": true,
    "jupyter": {
     "outputs_hidden": true
    },
    "tags": []
   },
   "outputs": [
    {
     "name": "stdout",
     "output_type": "stream",
     "text": [
      "[-1 -1  0  1  1  1  1]\n",
      "[2 1 0 1 1 3 6]\n",
      "[-0.41614684  0.54030231  1.          0.54030231  0.54030231 -0.9899925\n",
      "  0.96017029]\n",
      "[-0.90929743 -0.84147098  0.          0.84147098  0.84147098  0.14112001\n",
      " -0.2794155 ]\n",
      "[1.35335283e-01 3.67879441e-01 1.00000000e+00 2.71828183e+00\n",
      " 2.71828183e+00 2.00855369e+01 4.03428793e+02]\n",
      "[       nan        nan       -inf 0.         0.         1.09861229\n",
      " 1.79175947]\n",
      "[       nan        nan 0.         1.         1.         1.73205081\n",
      " 2.44948974]\n"
     ]
    },
    {
     "name": "stderr",
     "output_type": "stream",
     "text": [
      "C:\\Users\\paco\\AppData\\Local\\Temp\\ipykernel_1188\\2365994234.py:6: RuntimeWarning: divide by zero encountered in log\n",
      "  print(np.log(x))\n",
      "C:\\Users\\paco\\AppData\\Local\\Temp\\ipykernel_1188\\2365994234.py:6: RuntimeWarning: invalid value encountered in log\n",
      "  print(np.log(x))\n",
      "C:\\Users\\paco\\AppData\\Local\\Temp\\ipykernel_1188\\2365994234.py:7: RuntimeWarning: invalid value encountered in sqrt\n",
      "  print(np.sqrt(x))\n"
     ]
    }
   ],
   "source": [
    "print(np.sign(x))\n",
    "print(np.abs(x))\n",
    "print(np.cos(x)) \n",
    "print(np.sin(x))\n",
    "print(np.exp(x))\n",
    "print(np.log(x))\n",
    "print(np.sqrt(x))"
   ]
  },
  {
   "cell_type": "code",
   "execution_count": 52,
   "id": "4af9cb4f-0071-4181-aff5-ce6c41fd4e29",
   "metadata": {
    "tags": []
   },
   "outputs": [],
   "source": [
    "x = np.array([1,2,3,4,5,6,7,8,9,2,2])\n",
    "x_nan = np.array([1,2,3,4, np.nan, 6, 8, 10, np.nan])"
   ]
  },
  {
   "cell_type": "code",
   "execution_count": null,
   "id": "4cac01bc-e51d-48b6-b703-5ffdde75ce2a",
   "metadata": {
    "tags": []
   },
   "outputs": [],
   "source": [
    "np.mean(x)"
   ]
  },
  {
   "cell_type": "code",
   "execution_count": null,
   "id": "12be86a4-9d17-4a55-bc89-c1dcfeaa1d8b",
   "metadata": {
    "tags": []
   },
   "outputs": [],
   "source": [
    "np.nanmean(x_nan)"
   ]
  },
  {
   "cell_type": "code",
   "execution_count": 56,
   "id": "64fe5e31-cc95-47dc-9c1f-88b373ed6846",
   "metadata": {
    "tags": []
   },
   "outputs": [
    {
     "name": "stdout",
     "output_type": "stream",
     "text": [
      "9\n",
      "9\n"
     ]
    }
   ],
   "source": [
    "print(np.max(x))\n",
    "print(np.nanmax(x))\n"
   ]
  },
  {
   "cell_type": "code",
   "execution_count": 57,
   "id": "f1606c57-6bf7-4601-8fc2-91fd22134868",
   "metadata": {
    "tags": []
   },
   "outputs": [
    {
     "name": "stdout",
     "output_type": "stream",
     "text": [
      "1\n",
      "1.0\n"
     ]
    }
   ],
   "source": [
    "print(np.min(x))\n",
    "print(np.nanmin(x_nan))"
   ]
  },
  {
   "cell_type": "code",
   "execution_count": 58,
   "id": "3ccf6ee4-d742-4c5c-a402-159f6f584dbb",
   "metadata": {
    "tags": []
   },
   "outputs": [
    {
     "name": "stdout",
     "output_type": "stream",
     "text": [
      "6.793388429752068\n",
      "9.26530612244898\n"
     ]
    }
   ],
   "source": [
    "print(np.var(x))\n",
    "print(np.nanvar(x_nan))"
   ]
  },
  {
   "cell_type": "code",
   "execution_count": 59,
   "id": "35cc51bc-10e3-4126-ae71-89d38202f88a",
   "metadata": {
    "tags": []
   },
   "outputs": [
    {
     "name": "stdout",
     "output_type": "stream",
     "text": [
      "1451520\n",
      "11520.0\n"
     ]
    }
   ],
   "source": [
    "print(np.prod(x))\n",
    "print(np.nanprod(x_nan))"
   ]
  },
  {
   "cell_type": "code",
   "execution_count": null,
   "id": "8b98076c-57ad-40e1-b0ed-fcf20f7ffe12",
   "metadata": {
    "tags": []
   },
   "outputs": [],
   "source": [
    "print(np.argmax(x))# posición del valor más pequeño  proyecto\n",
    "print(np.nanargmax(x_nan))"
   ]
  },
  {
   "cell_type": "code",
   "execution_count": null,
   "id": "be3edac0-0cef-4e9f-a119-a06843334a25",
   "metadata": {},
   "outputs": [],
   "source": []
  }
 ],
 "metadata": {
  "kernelspec": {
   "display_name": "Python 3 (ipykernel)",
   "language": "python",
   "name": "python3"
  },
  "language_info": {
   "codemirror_mode": {
    "name": "ipython",
    "version": 3
   },
   "file_extension": ".py",
   "mimetype": "text/x-python",
   "name": "python",
   "nbconvert_exporter": "python",
   "pygments_lexer": "ipython3",
   "version": "3.11.5"
  }
 },
 "nbformat": 4,
 "nbformat_minor": 5
}
