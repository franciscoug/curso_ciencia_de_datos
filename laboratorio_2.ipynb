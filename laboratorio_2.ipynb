{
 "cells": [
  {
   "cell_type": "markdown",
   "id": "e9b55a76-f1f8-4675-8967-896cf3e6da1c",
   "metadata": {},
   "source": [
    "# Laboratorio # 2 - Sintaxis y Estructuras de Datos"
   ]
  },
  {
   "cell_type": "markdown",
   "id": "2d347c25-1ca1-4407-ae43-34a768c26ff2",
   "metadata": {},
   "source": [
    "## Parte #1 - Programación y Sintaxis\n",
    "-  A continuacion se le muestran una lista de ejercicios\n",
    "que debera completar utilizando Python, debe usar Markdown para indicar donde inicia cada uno\n",
    "de los ejercicios.\n",
    "- 1. Haga un programa en Python que reciba de parametro un numero de segundos y que despliegue en pantalla, las horas, minutos y segundos que representan. Por ejemplo:\n",
    "  - Si el numero de segundos recibidos fuera: 2743 entonces su programa deberıa desplegar:\n",
    "   Horas: 0, Minutos: 45 , Segundos: 43\n",
    "  - Si el numero de segundos recibidos fuera 5871: Horas: 1, Minutos: 37 , Segundos: 51"
   ]
  },
  {
   "cell_type": "code",
   "execution_count": 9,
   "id": "05d1b8e8-5e95-4757-a724-19ccd09b640e",
   "metadata": {
    "collapsed": true,
    "jupyter": {
     "outputs_hidden": true
    },
    "tags": []
   },
   "outputs": [
    {
     "name": "stdout",
     "output_type": "stream",
     "text": [
      "Este código convierte una entrada entera de segundos\n",
      "a horas, Minutos y segundos, por favor ingrese un numero entero,\n",
      "de lo contrario el programa truncara el numero, no ingrese letras,\n",
      "unicamente ingrese numeros\n",
      "          \n"
     ]
    },
    {
     "name": "stdin",
     "output_type": "stream",
     "text": [
      "Ingrese el número de segundos:  5678\n"
     ]
    },
    {
     "name": "stdout",
     "output_type": "stream",
     "text": [
      "Horas: 1, Minutos: 34, Segundos: 38\n"
     ]
    },
    {
     "name": "stdin",
     "output_type": "stream",
     "text": [
      "¿Desea continuar convirtiendo los segundos? y/n yghghgh\n"
     ]
    },
    {
     "name": "stdout",
     "output_type": "stream",
     "text": [
      "Era sencillo : (y/n)\n"
     ]
    },
    {
     "name": "stdin",
     "output_type": "stream",
     "text": [
      "Ingrese el número de segundos:  uuuu\n"
     ]
    },
    {
     "name": "stdout",
     "output_type": "stream",
     "text": [
      "Error: invalid literal for int() with base 10: 'uuuu'\n",
      "Se lo dijimos, no haga eso \n"
     ]
    },
    {
     "name": "stdin",
     "output_type": "stream",
     "text": [
      "Ingrese el número de segundos:  45\n"
     ]
    },
    {
     "name": "stdout",
     "output_type": "stream",
     "text": [
      "Horas: 0, Minutos: 0, Segundos: 45\n"
     ]
    },
    {
     "name": "stdin",
     "output_type": "stream",
     "text": [
      "¿Desea continuar convirtiendo los segundos? y/n n\n"
     ]
    },
    {
     "name": "stdout",
     "output_type": "stream",
     "text": [
      "Hasta luego\n"
     ]
    }
   ],
   "source": [
    "def convertir_segundos(segundos):\n",
    "    \n",
    "    horas = segundos // 3600\n",
    "    minutos = (segundos % 3600) // 60\n",
    "    segundos = (segundos % 3600) % 60\n",
    "    print(f\"Horas: {horas}, Minutos: {minutos}, Segundos: {segundos}\")\n",
    "\n",
    "        \n",
    "mensaje = \"\"\"Este código convierte una entrada entera de segundos\n",
    "a horas, Minutos y segundos, por favor ingrese un numero entero,\n",
    "de lo contrario el programa truncara el numero, no ingrese letras,\n",
    "unicamente ingrese numeros\n",
    "          \"\"\"\n",
    "print(mensaje)\n",
    "control = True\n",
    "\n",
    "while control:\n",
    "    try:\n",
    "        segundos = int(input(\"Ingrese el número de segundos: \"))\n",
    "        convertir_segundos(segundos)\n",
    "        respuesta = input(\"¿Desea continuar convirtiendo los segundos? y/n\")\n",
    "        if respuesta == 'y':\n",
    "            print(\"Continue trabajando\")\n",
    "        elif respuesta == 'n':\n",
    "            break\n",
    "        else:\n",
    "            print(\"Era sencillo : (y/n)\")\n",
    "            \n",
    "    except Exception as e:\n",
    "        print(f\"Error: {e}\")\n",
    "        print(\"Se lo dijimos, no haga eso \")\n",
    "print(\"Hasta luego\")\n"
   ]
  },
  {
   "cell_type": "markdown",
   "id": "c0b156d2-d246-4a6a-91db-f0c6445f208d",
   "metadata": {},
   "source": [
    "- 2. Haga una función en Python que dado un número entre 1 y 20. Y un carácter cualquiera\n",
    "despliegue cuatro patrones triangulares."
   ]
  },
  {
   "cell_type": "code",
   "execution_count": 85,
   "id": "249b4a1e-4daa-4d01-9294-6f9c68bd28d5",
   "metadata": {
    "collapsed": true,
    "jupyter": {
     "outputs_hidden": true
    },
    "tags": []
   },
   "outputs": [
    {
     "name": "stdout",
     "output_type": "stream",
     "text": [
      "Se desconoce el patron de las figurasgeneradas por parámetros diferentes a numero = 4 \n",
      "por lo que se presenta la estructura para el numero = 4,\n",
      "para los demas valores de numero = 4, se presentan patrones parecidos \n",
      "\n"
     ]
    },
    {
     "name": "stdin",
     "output_type": "stream",
     "text": [
      "Ingrese solamente un numero entre 1 y 20:  6\n",
      "Ingrese solamente un simbolo:  #\n"
     ]
    },
    {
     "name": "stdout",
     "output_type": "stream",
     "text": [
      "#     ######     ######      #\n",
      "##     #####     #####       ##\n",
      "###     ####      ####      ###\n",
      "####     ###      ###      ####\n",
      "#####     ##      ##      #####\n",
      "######     #      #      ######\n",
      "\n",
      " Hasta luego\n"
     ]
    }
   ],
   "source": [
    "\n",
    "print(\"\"\"Se desconoce el patron de las figurasgeneradas por parámetros diferentes a numero = 4 \n",
    "por lo que se presenta la estructura para el numero = 4,\n",
    "para los demas valores de numero = 4, se presentan patrones parecidos \\n\"\"\")\n",
    "\n",
    "\n",
    "def hacer_triangulos(numero, simbolo):\n",
    "    for i in range(0,numero):\n",
    "        spc = 5\n",
    "        if i == 0:\n",
    "            spc_2 = 0 \n",
    "            spc_3 = 1\n",
    "        elif i == 1:\n",
    "            spc_3 = 2\n",
    "        elif i == 2:\n",
    "            spc_2 = 1\n",
    "            spc_3 = 1\n",
    "        print(simbolo*(i+1) +\" \"*spc+simbolo*(numero-i)+\" \"*spc+\" \"*spc_2+simbolo*(numero-i)+\" \"*spc+\" \"*spc_3+ simbolo*(i+1) )\n",
    "        i -= 1\n",
    "    \n",
    "try:    \n",
    "    numero = int(input(\"Ingrese solamente un numero entre 1 y 20: \"))\n",
    "    simbolo = input(\"Ingrese solamente un simbolo: \")\n",
    "    hacer_triangulos(numero, simbolo)\n",
    "except Exception as e:\n",
    "    print(f\"Por favor lea detenidamente las instrucciones\")\n",
    "\n",
    "print(\"\\n Hasta luego\")"
   ]
  },
  {
   "cell_type": "markdown",
   "id": "cec6ac40-247d-425f-8f17-2b9ef2d63122",
   "metadata": {},
   "source": [
    "- 3. Haga un programa en Python que la fecha de nacimiento de una persona (puede ingresar por\n",
    "separado cada valor, es decir pedir primero día, luego mes y luego año), despliegue la edad\n",
    "de la persona en años, meses y días. Su resultado puede ser aproximado."
   ]
  },
  {
   "cell_type": "code",
   "execution_count": 82,
   "id": "0a2d9cc5-6e63-4cac-b3ed-4c445f568e5d",
   "metadata": {
    "tags": []
   },
   "outputs": [
    {
     "name": "stdin",
     "output_type": "stream",
     "text": [
      "Ingrese el día de nacimiento:  31\n",
      "Ingrese el mes de nacimiento (1-12):  3\n",
      "Ingrese el año de nacimiento:  1976\n"
     ]
    },
    {
     "name": "stdout",
     "output_type": "stream",
     "text": [
      "Edad: 47 años, 11 meses, -5 días\n"
     ]
    }
   ],
   "source": [
    "\"\"\"\n",
    "Haga un programa en Python que la fecha de nacimiento de una persona (puede ingresar por\n",
    "separado cada valor, es decir pedir primero d´ıa, luego mes y luego año), despliegue la edad\n",
    "de la persona en años, meses y dias. Su resultado puede ser aproximado\n",
    "\"\"\"\n",
    "\n",
    "from datetime import date\n",
    "\n",
    "\n",
    "def calcular_edad():\n",
    "    dia_nacimiento = int(input(\"Ingrese el día de nacimiento (1-31: \"))\n",
    "    mes_nacimiento = int(input(\"Ingrese el mes de nacimiento (1-12): \"))\n",
    "    año_nacimiento = int(input(\"Ingrese el año de nacimiento (yyyy): \"))\n",
    "    \n",
    "    \n",
    "\n",
    "    # Obtener la fecha actual\n",
    "    fecha_actual = date.today()\n",
    "\n",
    "    # Calcular la edad en años, meses y días\n",
    "    edad_años = fecha_actual.year - año_nacimiento\n",
    "    edad_meses = fecha_actual.month - mes_nacimiento\n",
    "    edad_dias = fecha_actual.day - dia_nacimiento\n",
    "\n",
    "    # Ajustar la edad si los meses o días son negativos\n",
    "    if (edad_meses < 0) or (edad_meses == 0 and edad_dias < 0):\n",
    "        edad_años -= 1\n",
    "        edad_meses += 12\n",
    "    if edad_dias < 0:\n",
    "        ultimo_dia_mes_anterior = date(fecha_actual.year, fecha_actual.month - 1, 1).day\n",
    "        edad_dias += ultimo_dia_mes_anterior\n",
    "\n",
    "    # Mostrar la edad\n",
    "    print(f\"Edad: {edad_años} años, {edad_meses} meses, {edad_dias} días\")\n",
    "\n",
    "    \n",
    "print(\"\"\"Por favor respete los formatos y cantidades,este programa no realiza advertencias,\n",
    "el programador no se hace responsable por cualquier eventualidad por el mal uso por parte usuario\"\"\")     \n",
    "# Llamada a la función para calcular la edad\n",
    "calcular_edad()"
   ]
  },
  {
   "cell_type": "markdown",
   "id": "191e60d6-0ae7-4b25-80f6-ad73a6df537f",
   "metadata": {},
   "source": [
    "- 4. Escriba una función en Python que dada una tupla de elementos (números o letras) esta se\n",
    "convierta a un string. Tomar nota del siguiente ejemplo:\n",
    "Si la entrada fuera: (10, 20, 40, 5, 70)\n",
    "La salida deber´ıa ser: 102040570 "
   ]
  },
  {
   "cell_type": "code",
   "execution_count": 84,
   "id": "72b5b09f-789c-43eb-ae85-171bb4931db6",
   "metadata": {
    "tags": []
   },
   "outputs": [
    {
     "name": "stdin",
     "output_type": "stream",
     "text": [
      "Ingrese la cantidad de valores que desea ingresar:  4\n",
      "Ingrese el valor 1:  10\n",
      "Ingrese el valor 2:  20\n",
      "Ingrese el valor 3:  30\n",
      "Ingrese el valor 4:  90\n"
     ]
    },
    {
     "name": "stdout",
     "output_type": "stream",
     "text": [
      "Tupla de valores ingresados: ('10', '20', '30', '90')\n",
      "102040570\n"
     ]
    }
   ],
   "source": [
    "def ingresar_valores():\n",
    "    try:\n",
    "        cantidad = int(input(\"Ingrese la cantidad de valores que desea ingresar: \"))\n",
    "        valores = tuple(input(f\"Ingrese el valor {i+1}: \") for i in range(cantidad))\n",
    "        return valores\n",
    "    except ValueError:\n",
    "        print(\"Debe ingresar un número entero válido.\")\n",
    "        return ()\n",
    "\n",
    "def tupla_a_string(tupla):\n",
    "    # Convierte cada elemento de la tupla a un string y luego concatenarlos\n",
    "    # Se utiliza comprensión pa convertir cada elemento de la tupla en un string\n",
    "    #str(elemento) for elemento in tupla\n",
    "    #\"\".join() une a todos en una sola lista de string sin ningún separador\n",
    "    \n",
    "    resultado = \"\".join(str(elemento) for elemento in tupla)\n",
    "    return resultado\n",
    "\n",
    "\n",
    "\n",
    "tupla_valores = ingresar_valores()\n",
    "print(\"Tupla de valores ingresados:\", tupla_valores)\n",
    "\n",
    "resultado = tupla_a_string(tupla)\n",
    "print(resultado)"
   ]
  },
  {
   "cell_type": "markdown",
   "id": "eef803b1-052a-403b-8830-b20f93ec16f5",
   "metadata": {},
   "source": [
    "- 5. Cree un programa en Python que dada una lista de tuplas, elimine las tuplas que están vacías.\n",
    "Tomar nota del siguiente ejemplo:\n",
    "Si la lista fuera: [(), (), (’X’,), (’a’, ’b’), (’a’, ’b’, ’c’), (’d’)]\n",
    "El resultado deber´ıa ser: [(’X’), (’a’, ’b’), (’a’, ’b’, ’c’), ’d’]"
   ]
  },
  {
   "cell_type": "code",
   "execution_count": 93,
   "id": "7951bce9-c895-4410-a7e7-d665dfaa89a8",
   "metadata": {
    "collapsed": true,
    "jupyter": {
     "outputs_hidden": true
    },
    "tags": []
   },
   "outputs": [
    {
     "name": "stdout",
     "output_type": "stream",
     "text": [
      "<class 'tuple'>\n",
      "<class 'tuple'>\n",
      "<class 'tuple'>\n",
      "<class 'str'>\n",
      "Lista original: [(), (), ('X',), ('a', 'b'), ('a', 'b', 'c'), 'd']\n",
      "Lista filtrada: [('X',), ('a', 'b'), ('a', 'b', 'c'), 'd']\n"
     ]
    }
   ],
   "source": [
    "lista_tuplas = [(), (), ('X',), ('a', 'b'), ('a', 'b', 'c'), ('d')]\n",
    "lista_filtrada = []\n",
    "\n",
    "for tupla in lista_tuplas:\n",
    "    if tupla: #verificamos que la tupla no este vacía\n",
    "        print(type(tupla))\n",
    "        lista_filtrada.append(tupla)\n",
    "\n",
    "print(\"Lista original:\", lista_tuplas)\n",
    "print(\"Lista filtrada:\", lista_filtrada)"
   ]
  },
  {
   "cell_type": "markdown",
   "id": "745bf3c0-37d3-49b3-95cb-88f8420a0b93",
   "metadata": {},
   "source": [
    "- 6. Cree una función en Python que dada una tupla de tuplas con números, produzca una tupla\n",
    "con el promedio de cada tupla individual, debe usar comprehensions para desarrollar este\n",
    "ejercicio. Tomar nota del siguiente ejemplo:\n",
    "Si la tupla de entrada fuera: ((10, 10, 10, 12), (30, 45, 56, 45), (81, 80, 39, 32))\n",
    "El resultado deber´ıa ser: (10.5, 44, 58)"
   ]
  },
  {
   "cell_type": "code",
   "execution_count": 97,
   "id": "72c3c3c7-7b92-4107-bf39-d1802a3bb868",
   "metadata": {
    "tags": []
   },
   "outputs": [
    {
     "name": "stdin",
     "output_type": "stream",
     "text": [
      "Ingrese la cantidad de tuplas que desea ingresar:  3\n",
      "Ingrese la tupla de números separados por comas (ejemplo: 10, 20, 30):  10,10,10,12\n",
      "Ingrese la tupla de números separados por comas (ejemplo: 10, 20, 30):  30,45,56,45\n",
      "Ingrese la tupla de números separados por comas (ejemplo: 10, 20, 30):  81,80,39,32\n"
     ]
    },
    {
     "name": "stdout",
     "output_type": "stream",
     "text": [
      "Resultado: (10.5, 44.0, 58.0)\n"
     ]
    }
   ],
   "source": [
    "def promedio_tuplas():\n",
    "    try:\n",
    "        cantidad_tuplas = int(input(\"Ingrese la cantidad de tuplas que desea ingresar: \"))\n",
    "        tuplas = []\n",
    "\n",
    "        # Solicitar al usuario ingresar cada tupla\n",
    "        for _ in range(cantidad_tuplas):\n",
    "            tupla_str = input(\"Ingrese la tupla de números separados por comas (ejemplo: 10, 20, 30): \")\n",
    "            tupla = tuple(map(int, tupla_str.split(\",\")))\n",
    "            tuplas.append(tupla)\n",
    "\n",
    "        # Calcular el promedio de cada tupla\n",
    "        promedios = tuple(sum(tupla) / len(tupla) for tupla in tuplas)\n",
    "\n",
    "        return promedios\n",
    "    except ValueError:\n",
    "        print(\"Debe ingresar números separados por comas.\")\n",
    "\n",
    "\n",
    "resultado = promedio_tuplas()\n",
    "\n",
    "# Esta verificación maneja los casos en donde la función promedio_tuplas puede devolver un resultado\n",
    "#válido debido a un error (usuario).\n",
    "if resultado: # \n",
    "    print(\"Resultado:\", resultado)\n",
    "else:\n",
    "    print(\"El resultado es no valido.  Revise la tupla ingresada.\")"
   ]
  },
  {
   "cell_type": "markdown",
   "id": "d9aea65d-7b6d-4850-97aa-df8f333cba0f",
   "metadata": {},
   "source": [
    "- 7. Escribir un programa que gestione las facturas pendientes de cobro de una empresa. Las\n",
    "facturas se almacenarán en un diccionario donde la llave de cada factura será el número de\n",
    "factura (debe utilizar un número de 4 dígitos) y el valor el coste de la factura. El programa\n",
    "debe preguntar al usuario si quiere añadir una nueva factura, pagar una existente o terminar.\n",
    "Si desea añadir una nueva factura se preguntará por el número de factura y su coste y se\n",
    "añadirá al diccionario, para confirmar que la factura se ingreso correctamente el programa\n",
    "debe desplegar el diccionario completo. Si se desea pagar una factura se preguntará por el\n",
    "número de factura y se eliminará del diccionario. Despuás de cada operacián el programa\n",
    "debe mostrar en pantalla la cantidad cobrada hasta el momento y la cantidad pendiente de\n",
    "cobro. Puede utilizar otras estructuras de datos como apoyo si lo considera necesario."
   ]
  },
  {
   "cell_type": "code",
   "execution_count": null,
   "id": "41373254-2c8c-40fc-bb15-266cd24f8b64",
   "metadata": {
    "collapsed": true,
    "jupyter": {
     "outputs_hidden": true
    },
    "tags": []
   },
   "outputs": [
    {
     "name": "stdout",
     "output_type": "stream",
     "text": [
      "\n",
      "--- Menú ---\n",
      "1. Añadir nueva factura\n",
      "2. Pagar factura existente\n",
      "3. Mostrar estado de cuentas\n",
      "4. Salir\n"
     ]
    },
    {
     "name": "stdin",
     "output_type": "stream",
     "text": [
      "Seleccione una opción (1-4):  1\n",
      "Ingrese el número de factura (4 dígitos) o '0' para salir:  1234\n",
      "Ingrese el costo de la factura:  100\n"
     ]
    },
    {
     "name": "stdout",
     "output_type": "stream",
     "text": [
      "Factura añadida correctamente.\n",
      "Facturas pendientes: {'1234': 100.0}\n"
     ]
    },
    {
     "name": "stdin",
     "output_type": "stream",
     "text": [
      "Ingrese el número de factura (4 dígitos) o '0' para salir:  0\n"
     ]
    },
    {
     "name": "stdout",
     "output_type": "stream",
     "text": [
      "\n",
      "--- Menú ---\n",
      "1. Añadir nueva factura\n",
      "2. Pagar factura existente\n",
      "3. Mostrar estado de cuentas\n",
      "4. Salir\n"
     ]
    },
    {
     "name": "stdin",
     "output_type": "stream",
     "text": [
      "Seleccione una opción (1-4):  3\n"
     ]
    },
    {
     "name": "stdout",
     "output_type": "stream",
     "text": [
      "Estado de cuentas:\n",
      "Cantidad cobrada hasta el momento: 100.0\n",
      "Factura 1234: 100.0\n",
      "Cantidad pendiente de cobro: 100.0\n",
      "\n",
      "--- Menú ---\n",
      "1. Añadir nueva factura\n",
      "2. Pagar factura existente\n",
      "3. Mostrar estado de cuentas\n",
      "4. Salir\n"
     ]
    }
   ],
   "source": [
    "def agregar_factura(facturas):\n",
    "    while True:\n",
    "        numero_factura = input(\"Ingrese el número de factura (4 dígitos) o '0' para salir: \")\n",
    "        if numero_factura == '0':\n",
    "            break\n",
    "        if len(numero_factura) != 4 or not numero_factura.isdigit():\n",
    "            print(\"Número de factura inválido. Debe ser un número de 4 dígitos.\")\n",
    "            continue\n",
    "        costo_factura = float(input(\"Ingrese el costo de la factura: \"))\n",
    "        facturas[numero_factura] = costo_factura\n",
    "        print(\"Factura añadida correctamente.\")\n",
    "        print(\"Facturas pendientes:\", facturas)\n",
    "\n",
    "def pagar_factura(facturas):\n",
    "    numero_factura = input(\"Ingrese el número de factura a pagar: \")\n",
    "    if numero_factura in facturas:\n",
    "        costo_factura = facturas.pop(numero_factura)\n",
    "        print(f\"Factura {numero_factura} pagada correctamente por un monto de {costo_factura}.\")\n",
    "    else:\n",
    "        print(\"Factura no encontrada.\")\n",
    "\n",
    "def mostrar_estado_cuentas(facturas):\n",
    "    total_cobrado = sum(facturas.values())\n",
    "    total_pendiente = 0\n",
    "    print(\"Estado de cuentas:\")\n",
    "    print(f\"Cantidad cobrada hasta el momento: {total_cobrado}\")\n",
    "    for factura, costo in facturas.items():\n",
    "        print(f\"Factura {factura}: {costo}\")\n",
    "        total_pendiente += costo  # Sumar el costo de la factura al total pendiente\n",
    "    print(f\"Cantidad pendiente de cobro: {total_pendiente}\")\n",
    "\n",
    "def gestionar_facturas():\n",
    "    facturas = {}\n",
    "\n",
    "    while True:\n",
    "        print(\"\\n--- Menú ---\")\n",
    "        print(\"1. Añadir nueva factura\")\n",
    "        print(\"2. Pagar factura existente\")\n",
    "        print(\"3. Mostrar estado de cuentas\")\n",
    "        print(\"4. Salir\")\n",
    "        opcion = input(\"Seleccione una opción (1-4): \")\n",
    "\n",
    "        if opcion == \"1\":\n",
    "            agregar_factura(facturas)\n",
    "        elif opcion == \"2\":\n",
    "            pagar_factura(facturas)\n",
    "        elif opcion == \"3\":\n",
    "            mostrar_estado_cuentas(facturas)\n",
    "        elif opcion == \"4\":\n",
    "            break\n",
    "        else:\n",
    "            print(\"Opción no válida. Por favor, seleccione una opción válida.\")\n",
    "\n",
    "# Ejecutar la función de gestión de facturas\n",
    "gestionar_facturas()"
   ]
  },
  {
   "cell_type": "code",
   "execution_count": null,
   "id": "99c01fd2-f3b0-4fb6-9a06-b59352dae720",
   "metadata": {},
   "outputs": [],
   "source": []
  }
 ],
 "metadata": {
  "kernelspec": {
   "display_name": "Python 3 (ipykernel)",
   "language": "python",
   "name": "python3"
  },
  "language_info": {
   "codemirror_mode": {
    "name": "ipython",
    "version": 3
   },
   "file_extension": ".py",
   "mimetype": "text/x-python",
   "name": "python",
   "nbconvert_exporter": "python",
   "pygments_lexer": "ipython3",
   "version": "3.11.5"
  }
 },
 "nbformat": 4,
 "nbformat_minor": 5
}
